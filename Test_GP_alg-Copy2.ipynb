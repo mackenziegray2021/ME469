{
 "cells": [
  {
   "cell_type": "code",
   "execution_count": 1,
   "id": "fa1117eb",
   "metadata": {},
   "outputs": [],
   "source": [
    "import numpy as np\n",
    "import matplotlib.pyplot as plt\n",
    "import math\n",
    "import scipy.spatial.distance\n",
    "import scipy"
   ]
  },
  {
   "cell_type": "code",
   "execution_count": 2,
   "id": "0dff3571",
   "metadata": {},
   "outputs": [],
   "source": [
    "GT = np.genfromtxt('ds0_Groundtruth.dat', skip_header = 3, skip_footer = 0, names = True, dtype = None, delimiter = ' ' , usecols = [0, 3, 5, 7])\n",
    "Odom = np.genfromtxt('ds0_Odometry.dat', skip_header = 3, skip_footer = 0, names = True, dtype = None, delimiter = ' ' , usecols = [0,4,5])"
   ]
  },
  {
   "cell_type": "code",
   "execution_count": 3,
   "id": "b8326c92",
   "metadata": {},
   "outputs": [],
   "source": [
    "start_time = GT[0][0]\n",
    "for i in range(len(GT)):\n",
    "    GT[i][0]-= start_time\n",
    "for i in range(len(Odom)):\n",
    "    Odom[i][0]-=start_time"
   ]
  },
  {
   "cell_type": "code",
   "execution_count": 4,
   "id": "72a5b82b",
   "metadata": {},
   "outputs": [],
   "source": [
    "j = 1\n",
    "k = 1\n",
    "align = []\n",
    "\n",
    "for i in range (len(GT)):\n",
    "    match = 0\n",
    "    while (match == 0 and j < len(GT) and k < len(Odom)-1):\n",
    "        if (GT[j][0] - Odom[k][0] > 0 and GT[j][0] - Odom[k+1][0]<= 0):\n",
    "            align.append((GT[j], Odom[k]))\n",
    "            j+=1\n",
    "            match = 1\n",
    "        else:\n",
    "            k+=1"
   ]
  },
  {
   "cell_type": "code",
   "execution_count": 6,
   "id": "742bae9b",
   "metadata": {},
   "outputs": [],
   "source": [
    "train_in = []\n",
    "train_out = []\n",
    "\n",
    "test_in = []\n",
    "test_out = []\n",
    "\n",
    "val_in = []\n",
    "val_out = []\n",
    "\n",
    "ind = np.linspace(0, len(align), 10000)\n",
    "ind_count = 0\n",
    "\n",
    "for i in range(len(align) - 2):\n",
    "    \n",
    "    dt_in = align[i+1][0][0] - align[i][0][0]\n",
    "    \n",
    "    x_in = align[i+1][0][1] - align[i][0][1]\n",
    "    y_in = align[i+1][0][2] - align[i][0][2]\n",
    "    theta_in = align[i+1][0][3] - align[i][0][3]\n",
    "    \n",
    "    v_in = align[i+1][1][1] - align[i][1][1]\n",
    "    w_in = align[i+1][1][2] - align[i][1][2]\n",
    "\n",
    "    dt_out = align[i+2][0][0] - align[i+1][0][0] # (t+1) - (t)\n",
    "    \n",
    "    x_out = align[i+2][0][1] - align[i+1][0][1]\n",
    "    y_out = align[i+2][0][2] - align[i+1][0][2]\n",
    "    theta_out = align[i+2][0][3] - align[i+1][0][3]\n",
    "    \n",
    "    if (i == int(ind[ind_count]) and ind_count%2 ==0):\n",
    "        test_in.append([x_in/dt_in, y_in/dt_in, theta_in/dt_in, v_in/dt_out, w_in/dt_out])\n",
    "        test_out.append([x_out/dt_out, y_out/dt_out, theta_out/dt_out])\n",
    "        ind_count+=1\n",
    "    elif (i == int(ind[ind_count]) and ind_count%2 ==1):\n",
    "        val_in.append([x_in/dt_in, y_in/dt_in, theta_in/dt_in, v_in/dt_out, w_in/dt_out])\n",
    "        val_out.append([x_out/dt_out, y_out/dt_out, theta_out/dt_out])\n",
    "        ind_count+=1\n",
    "    else:\n",
    "        train_in.append([x_in/dt_in, y_in/dt_in, theta_in/dt_in, v_in/dt_out, w_in/dt_out])\n",
    "        train_out.append([x_out/dt_out, y_out/dt_out, theta_out/dt_out])\n",
    "    "
   ]
  },
  {
   "cell_type": "code",
   "execution_count": 7,
   "id": "0f07f049",
   "metadata": {},
   "outputs": [],
   "source": [
    "train_in2 = []\n",
    "train_out2 = []\n",
    "\n",
    "test_in2 = []\n",
    "test_out2 = []\n",
    "\n",
    "val_in2 = []\n",
    "val_out2 = []\n",
    "\n",
    "ind = np.linspace(0, len(align), 10000)\n",
    "ind_count = 0\n",
    "\n",
    "for i in range(len(align) - 2):\n",
    "    \n",
    "    dt_in = align[i+1][0][0] - align[i][0][0]\n",
    "    \n",
    "    x_in = align[i+1][0][1] - align[i][0][1]\n",
    "    y_in = align[i+1][0][2] - align[i][0][2]\n",
    "    theta_in = align[i+1][0][3] - align[i][0][3]\n",
    "    \n",
    "    v = np.sqrt(((x_in/dt_in)**2)+((y_in/dt_in)**2))\n",
    "    w = theta_in/dt_in\n",
    "    \n",
    "    v_in = align[i+1][1][1] - align[i][1][1]\n",
    "    w_in = align[i+1][1][2] - align[i][1][2]\n",
    "    \n",
    "    del_v = np.abs(v - v_in)\n",
    "    del_w = np.abs(w - w_in)\n",
    "\n",
    "    dt_out = align[i+2][0][0] - align[i+1][0][0] # (t+1) - (t)\n",
    "    \n",
    "    x_out = align[i+2][0][1] - align[i+1][0][1]\n",
    "    y_out = align[i+2][0][2] - align[i+1][0][2]\n",
    "    theta_out = align[i+2][0][3] - align[i+1][0][3]\n",
    "    \n",
    "    if (i == int(ind[ind_count]) and ind_count%2 ==0):\n",
    "        test_in2.append([del_v, del_w, dt_out])\n",
    "        test_out2.append([x_out, y_out, theta_out])\n",
    "        ind_count+=1\n",
    "    elif (i == int(ind[ind_count]) and ind_count%2 ==1):\n",
    "        val_in2.append([del_v, del_w, dt_out])\n",
    "        val_out2.append([x_out, y_out, theta_out])\n",
    "        ind_count+=1\n",
    "    else:\n",
    "        train_in2.append([del_v, del_w, dt_out])\n",
    "        train_out2.append([x_out, y_out, theta_out])\n",
    "    "
   ]
  },
  {
   "cell_type": "code",
   "execution_count": 8,
   "id": "77319c5e",
   "metadata": {},
   "outputs": [],
   "source": [
    "def RBF_1d(X1, X2, l, var):\n",
    "    '''\n",
    "        l = lengthscale\n",
    "        var = variance (sigma^2)\n",
    "        \n",
    "        scipy.spatial.distance.cdist(XA, XB, metric='euclidean', *, out=None, **kwargs)\n",
    "        Compute distance between each pair of the two collections of inputs.\n",
    "        https://docs.scipy.org/doc/scipy/reference/generated/scipy.spatial.distance.cdist.html\n",
    "        \n",
    "        Kxx = | k(x1,x1)   k(x1,x2)   ....   k(x1,xn) |\n",
    "              |                                       |\n",
    "              | k(xn,x1)   k(xn,x2)   ....   k(xn,xn) |\n",
    "    '''\n",
    "    K = np.zeros((len(X1), len(X2)))\n",
    "    for i in range(len(X1)):\n",
    "        for j in range(len(X2)):\n",
    "            d = np.abs(X1[i] - X2[j])\n",
    "            K[i][j] = var*np.exp(-(d**2)/(2*(l**2)))\n",
    "            #K[j][i] = var*np.exp(-(d**2)/(2*(l**2)))\n",
    "    return K"
   ]
  },
  {
   "cell_type": "code",
   "execution_count": 9,
   "id": "efb7d3bb",
   "metadata": {},
   "outputs": [],
   "source": [
    "def GP_1d(x_in, y_out, x_test, l, var):\n",
    "    '''\n",
    "        x_in = 1D array of training input\n",
    "        y_out = 1D array of training output\n",
    "        x_test = single point of test input\n",
    "    '''\n",
    "    # compute kernel, covar of training input\n",
    "    Kxx = RBF_1d(x_in, x_in, l, var)\n",
    "\n",
    "    L = np.linalg.cholesky(Kxx + 1e-5*np.eye(x_in.shape[0])) # add noise\n",
    "    # https://numpy.org/doc/stable/reference/generated/numpy.linalg.cholesky.html\n",
    "    \n",
    "    alpha = scipy.linalg.solve_triangular(L.T, scipy.linalg.solve_triangular(L, y_out, lower=True)) # solve(a, b) --> ax = b --> x = a\\b = a^-1b\n",
    "    # https://docs.scipy.org/doc/scipy/reference/generated/scipy.linalg.solve_triangular.html\n",
    "    # https://numpy.org/doc/stable/reference/generated/numpy.linalg.solve.html\n",
    "    \n",
    "    # compute covar\n",
    "    Kxxt = RBF_1d(x_in, x_test, l, var)\n",
    "\n",
    "    # compute covar of test data\n",
    "    Kxtxt = RBF_1d(x_test, x_test, l, var)\n",
    "    \n",
    "    # compute posterior mean\n",
    "    mu_post = np.matmul(Kxxt.T, alpha)    \n",
    "    \n",
    "    #compute poserior covar\n",
    "    v = scipy.linalg.solve_triangular(L.T, scipy.linalg.solve_triangular(L, Kxxt, lower=True))\n",
    "    sigma_post = Kxtxt - np.matmul(Kxxt.T, v)\n",
    "    \n",
    "    #sigma = Kxtxt - np.dot(Kxxt, np.linalg.inv(Kxx).dot(Kxxt))\n",
    "    # https://blog.dominodatalab.com/fitting-gaussian-process-models-python\n",
    "    \n",
    "    #mu_post = np.dot((scipy.linalg.solve(Kxx, Kxxt, assume_a='pos').T), y_out)\n",
    "    #mu_post = (scipy.linalg.solve(Kxx, Kxxt, assume_a='pos').T) * y_out\n",
    "    #sigma_post = Kxtxt - np.dot((scipy.linalg.solve(Kxx, Kxxt, assume_a='pos').T), Kxxt) \n",
    "    # https://peterroelants.github.io/posts/gaussian-process-tutorial/\n",
    "    \n",
    "    return mu_post, sigma_post"
   ]
  },
  {
   "cell_type": "code",
   "execution_count": 143,
   "id": "186551db",
   "metadata": {},
   "outputs": [],
   "source": [
    "def RBF_nd(X1, X2, l, var):\n",
    "    '''\n",
    "        l = lengthscale\n",
    "        var = variance (sigma^2)\n",
    "        \n",
    "        scipy.spatial.distance.cdist(XA, XB, metric='euclidean', *, out=None, **kwargs)\n",
    "        Compute distance between each pair of the two collections of inputs.\n",
    "        https://docs.scipy.org/doc/scipy/reference/generated/scipy.spatial.distance.cdist.html\n",
    "        \n",
    "        Kxx = | k(x1,x1)   k(x1,x2)   ....   k(x1,xn) |\n",
    "              |                                       |\n",
    "              | k(xn,x1)   k(xn,x2)   ....   k(xn,xn) |\n",
    "    '''\n",
    "    d = scipy.spatial.distance.cdist(X1, X2, 'cityblock')\n",
    "    K = var * np.exp(-(d**2)/(2*(l**2)))\n",
    "    return K\n",
    "    \n",
    "def GP(x_in, y_out, x_test, l, var, noise, prior_mean):\n",
    "    #prior_mean = 0\n",
    "    #noise = 1e-5\n",
    "    \n",
    "    Kxx = RBF_nd(x_in, x_in, l, var)\n",
    "\n",
    "    L = np.linalg.cholesky(Kxx + noise*np.eye(x_in.shape[0])) # add noise\n",
    "\n",
    "    alpha = scipy.linalg.solve_triangular(L.T, scipy.linalg.solve_triangular(L, y_out, lower=True)) # solve(a, b) --> ax = b --> x = a\\b = a^-1b\n",
    "\n",
    "    Kxxt = RBF_nd(x_in, x_test, l, var)\n",
    "\n",
    "    Kxtxt = RBF_nd(x_test, x_test, l, var)\n",
    "\n",
    "    mu_post = np.matmul(Kxxt.T, alpha)\n",
    "\n",
    "    v = scipy.linalg.solve_triangular(L.T, scipy.linalg.solve_triangular(L, Kxxt, lower=True))\n",
    "    sigma_post = Kxtxt - np.matmul(Kxxt.T, v)\n",
    "    \n",
    "    return mu_post, sigma_post\n",
    " \n",
    "def log_like(x_in, y_out, x_test, l, var, noise):\n",
    "    Kxx = RBF_nd(x_in, x_in, l, var)\n",
    "    \n",
    "    L = np.linalg.cholesky(Kxx + noise*np.eye(x_in.shape[0])) # add noise\n",
    "\n",
    "    alpha = scipy.linalg.solve_triangular(L.T, scipy.linalg.solve_triangular(L, y_out, lower=True)) # solve(a, b) --> ax = b --> x = a\\b = a^-1b\n",
    "\n",
    "    #MLL = (-.5*train_out.T*np.inv(Kxx)*train_out) - (.5*np.log(Kxx)) - (n/2)*np.log(2*np.pi)\n",
    "    \n",
    "    #np.sum(np.log(np.abs(K_chol))) + np.sum(scipy.linalg.solve_triangular((y_out), K_chol)**2) - \n",
    "\n",
    "    temp = 0\n",
    "    n = len(x_in) #num training points\n",
    "    for i in range(len(L)):\n",
    "        temp+=np.log(L[i][i])\n",
    "    MLL = -.5*y_out.T*alpha - temp - (n/2)*np.log(2*np.pi)\n",
    "    return MLL\n",
    "\n",
    "def log_like_1d(x_in, y_out, x_test, l, var):\n",
    "    Kxx = RBF_1d(x_in, x_in, l, var)\n",
    "    \n",
    "    L = np.linalg.cholesky(Kxx + 1e-5*np.eye(x_in.shape[0])) # add noise\n",
    "\n",
    "    alpha = scipy.linalg.solve_triangular(L.T, scipy.linalg.solve_triangular(L, y_out, lower=True)) # solve(a, b) --> ax = b --> x = a\\b = a^-1b\n",
    "\n",
    "    #MLL = (-.5*train_out.T*np.inv(Kxx)*train_out) - (.5*np.log(Kxx)) - (n/2)*np.log(2*np.pi)\n",
    "    \n",
    "    #np.sum(np.log(np.abs(K_chol))) + np.sum(scipy.linalg.solve_triangular((y_out), K_chol)**2) - \n",
    "\n",
    "    temp = 0\n",
    "    n = len(x_in) #num training points\n",
    "    for i in range(len(L)):\n",
    "        temp+=np.log(L[i][i])\n",
    "    MLL = -.5*y_out.T*alpha - temp - (n/2)*np.log(2*np.pi)\n",
    "    return MLL\n",
    "    \n",
    "def least_squares(y_pred, y_true):\n",
    "    total = 0\n",
    "    for i in range(len(y_pred)):\n",
    "        total+=((y_pred[i] - y_true[i])**2)\n",
    "    return total\n",
    "\n",
    "#def grad_descent():\n",
    "    \n",
    "def gradient_descent(loss_func, alpha_choice, max_its, params):\n",
    "    g_flat, unflatten, w = flatten_func(loss_func, params) # note here the output 'w' is also flattened\n",
    "\n",
    "    # compute the gradient function of our input function - note this is a function too\n",
    "    # that - when evaluated - returns both the gradient and function evaluations (remember\n",
    "    # as discussed in Chapter 3 we always ge the function evaluation 'for free' when we use\n",
    "    # an Automatic Differntiator to evaluate the gradient)\n",
    "    gradient = value_and_grad(g_flat)\n",
    "\n",
    "    # run the gradient descent loop\n",
    "    weight_history = []      # container for weight history\n",
    "    cost_history = []        # container for corresponding cost function history\n",
    "    alpha = 0\n",
    "    for k in range(1,max_its+1):\n",
    "        # check if diminishing steplength rule used\n",
    "        if alpha_choice == 'diminishing':\n",
    "            alpha = 1/float(k)\n",
    "        else:\n",
    "            alpha = alpha_choice\n",
    "        \n",
    "        # evaluate the gradient, store current (unflattened) weights and cost function value\n",
    "        cost_eval,grad_eval = gradient(w)\n",
    "        weight_history.append(unflatten(w))\n",
    "        cost_history.append(cost_eval)\n",
    "\n",
    "        # take gradient descent step\n",
    "        params = params - alpha*grad_eval\n",
    "            \n",
    "    # collect final weights\n",
    "    weight_history.append(unflatten(w))\n",
    "    # compute final cost function value via g itself (since we aren't computing \n",
    "    # the gradient at the final step we don't get the final cost function value \n",
    "    # via the Automatic Differentiatoor) \n",
    "    cost_history.append(g_flat(w))  \n",
    "    return weight_history[-1],cost_history[-1]\n",
    "\n",
    "#def optimize():\n",
    "        \n",
    "#def log_max():\n",
    "\n",
    "def MSE(mean_out, y_true):\n",
    "    total = 0\n",
    "    for i in range(len(mean_out)):\n",
    "        total+=((mean_out[i][0] - y_true[i])**2)\n",
    "    return total\n",
    "\n",
    "def neg_log_prob(mean_out, y_true, post_var):\n",
    "    noise = 1e-5*np.eye(post_var.shape[0])\n",
    "    pred_var = post_var + noise\n",
    "    #print((2*np.pi*pred_var))\n",
    "    return .5*np.log(2*np.pi*(np.abs(pred_var))) + ((y_true-mean_out)**2)/(2*pred_var)"
   ]
  },
  {
   "cell_type": "markdown",
   "id": "436811be",
   "metadata": {},
   "source": [
    "https://blog.dominodatalab.com/fitting-gaussian-process-models-python"
   ]
  },
  {
   "cell_type": "code",
   "execution_count": 11,
   "id": "0825b397",
   "metadata": {},
   "outputs": [
    {
     "data": {
      "text/plain": [
       "(77673, 3)"
      ]
     },
     "execution_count": 11,
     "metadata": {},
     "output_type": "execute_result"
    }
   ],
   "source": [
    "'''\n",
    "train_in = []\n",
    "train_out = []\n",
    "\n",
    "test_in = []\n",
    "test_out = []\n",
    "\n",
    "val_in = []\n",
    "val_out = []\n",
    "'''\n",
    "\n",
    "train_in2 = np.array(train_in2)\n",
    "train_in2.shape"
   ]
  },
  {
   "cell_type": "code",
   "execution_count": 55,
   "id": "91845c79",
   "metadata": {},
   "outputs": [
    {
     "name": "stdout",
     "output_type": "stream",
     "text": [
      "length scale = 1\n",
      "0.043062379872448445\n",
      "20.054450217057592 \n",
      "\n",
      "length scale = 10\n",
      "0.0005285748867809022\n",
      "20.91056682590535 \n",
      "\n",
      "length scale = 100\n",
      "0.06370714927998476\n",
      "20.927666157237752 \n",
      "\n",
      "length scale = 1000\n",
      "0.0003104285982949284\n",
      "20.927839567382975 \n",
      "\n",
      "length scale = 10000\n",
      "0.010562028320811793\n",
      "20.92784130173112\n"
     ]
    },
    {
     "name": "stderr",
     "output_type": "stream",
     "text": [
      "<ipython-input-55-86f1df645d83>:16: RuntimeWarning: covariance is not positive-semidefinite.\n",
      "  y_predict = np.random.multivariate_normal(mu.reshape(len(x_test)), sigma)\n",
      "<ipython-input-55-86f1df645d83>:27: RuntimeWarning: covariance is not positive-semidefinite.\n",
      "  y_predict = np.random.multivariate_normal(mu.reshape(len(x_test)), sigma)\n",
      "<ipython-input-55-86f1df645d83>:38: RuntimeWarning: covariance is not positive-semidefinite.\n",
      "  y_predict = np.random.multivariate_normal(mu.reshape(len(x_test)), sigma)\n"
     ]
    }
   ],
   "source": [
    "x_train = train_in2[0:100]\n",
    "x_test = test_in2[0:10]\n",
    "y_train = np.zeros(100)\n",
    "y_true = np.zeros(10)\n",
    "\n",
    "for i in range(100):\n",
    "    y_train[i] = train_out2[i][0]\n",
    "    \n",
    "for i in range(10):\n",
    "    y_true[i] = test_out2[i][0]\n",
    "\n",
    "print('length scale = 1')\n",
    "    \n",
    "mu, sigma = GP(x_train, y_train, x_test, 1, 0.1, 1e-1, 0)\n",
    "\n",
    "y_predict = np.random.multivariate_normal(mu.reshape(len(x_test)), sigma)\n",
    "\n",
    "print(least_squares(y_predict, y_true))\n",
    "\n",
    "LL = log_like(x_train, y_train, x_test, 1, 0.1, 1e-1)\n",
    "print(LL[0], '\\n')\n",
    "\n",
    "print('length scale = 10')\n",
    "\n",
    "mu, sigma = GP(x_train, y_train, x_test, 10, .1, 1e-1, 0)\n",
    "\n",
    "y_predict = np.random.multivariate_normal(mu.reshape(len(x_test)), sigma)\n",
    "\n",
    "print(least_squares(y_predict, y_true))\n",
    "\n",
    "LL = log_like(x_train, y_train, x_test, 10, 0.1, 1e-1)\n",
    "print(LL[0], '\\n')\n",
    "\n",
    "print('length scale = 100')\n",
    "\n",
    "mu, sigma = GP(x_train, y_train, x_test, 100, .1, 1e-1, 0)\n",
    "\n",
    "y_predict = np.random.multivariate_normal(mu.reshape(len(x_test)), sigma)\n",
    "\n",
    "print(least_squares(y_predict, y_true))\n",
    "\n",
    "LL = log_like(x_train, y_train, x_test, 100, 0.1, 1e-1)\n",
    "print(LL[0], '\\n')\n",
    "\n",
    "print('length scale = 1000')\n",
    "\n",
    "mu, sigma = GP(x_train, y_train, x_test, 1000, .1, 1e-1, 0)\n",
    "\n",
    "y_predict = np.random.multivariate_normal(mu.reshape(len(x_test)), sigma)\n",
    "\n",
    "print(least_squares(y_predict, y_true))\n",
    "\n",
    "LL = log_like(x_train, y_train, x_test, 1000, 0.1, 1e-1)\n",
    "print(LL[0], '\\n')\n",
    "\n",
    "print('length scale = 10000')\n",
    "\n",
    "mu, sigma = GP(x_train, y_train, x_test, 10000, .1, 1e-1, 0)\n",
    "\n",
    "y_predict = np.random.multivariate_normal(mu.reshape(len(x_test)), sigma)\n",
    "\n",
    "print(least_squares(y_predict, y_true))\n",
    "\n",
    "LL = log_like(x_train, y_train, x_test, 10000, 0.1, 1e-1)\n",
    "print(LL[0])"
   ]
  },
  {
   "cell_type": "code",
   "execution_count": 56,
   "id": "a571ae59",
   "metadata": {},
   "outputs": [
    {
     "name": "stdout",
     "output_type": "stream",
     "text": [
      "1000 training points, 100 testing points\n",
      "0.06566715132835642\n",
      "228.8964549583484 \n",
      "\n"
     ]
    },
    {
     "name": "stderr",
     "output_type": "stream",
     "text": [
      "<ipython-input-56-0f04d7c490db>:14: RuntimeWarning: covariance is not positive-semidefinite.\n",
      "  y_predict = np.random.multivariate_normal(mu.reshape(len(x_test)), sigma)\n"
     ]
    }
   ],
   "source": [
    "x_train = train_in2[0:1000]\n",
    "x_test = test_in2[0:100]\n",
    "y_train = np.zeros(1000)\n",
    "y_true = np.zeros(100)\n",
    "\n",
    "for i in range(1000):\n",
    "    y_train[i] = train_out2[i][0]\n",
    "    \n",
    "for i in range(100):\n",
    "    y_true[i] = test_out2[i][0]\n",
    "\n",
    "mu, sigma = GP(x_train, y_train, x_test, 100, .1, 1e-1, 0)\n",
    "\n",
    "y_predict = np.random.multivariate_normal(mu.reshape(len(x_test)), sigma)\n",
    "\n",
    "print('1000 training points, 100 testing points')\n",
    "\n",
    "print(least_squares(y_predict, y_true))\n",
    "\n",
    "LL = log_like(x_train, y_train, x_test, 100, 0.1, 1e-1)\n",
    "print(LL[0], '\\n')"
   ]
  },
  {
   "cell_type": "code",
   "execution_count": 57,
   "id": "262a3764",
   "metadata": {},
   "outputs": [
    {
     "name": "stderr",
     "output_type": "stream",
     "text": [
      "<ipython-input-57-76b631eece4b>:14: RuntimeWarning: covariance is not positive-semidefinite.\n",
      "  y_predict = np.random.multivariate_normal(mu.reshape(len(x_test)), sigma)\n"
     ]
    },
    {
     "name": "stdout",
     "output_type": "stream",
     "text": [
      "10000 training points, 1000 testing points\n",
      "0.03092153511167252\n",
      "2318.56571694551 \n",
      "\n"
     ]
    }
   ],
   "source": [
    "x_train = train_in2[0:10000]\n",
    "x_test = test_in2[0:1000]\n",
    "y_train = np.zeros(10000)\n",
    "y_true = np.zeros(1000)\n",
    "\n",
    "for i in range(10000):\n",
    "    y_train[i] = train_out2[i][0]\n",
    "    \n",
    "for i in range(1000):\n",
    "    y_true[i] = test_out2[i][0]\n",
    "\n",
    "mu, sigma = GP(x_train, y_train, x_test, 100, .1, 1e-1, 0)\n",
    "\n",
    "y_predict = np.random.multivariate_normal(mu.reshape(len(x_test)), sigma)\n",
    "\n",
    "print('10000 training points, 1000 testing points')\n",
    "\n",
    "print(least_squares(y_predict, y_true))\n",
    "\n",
    "LL = log_like(x_train, y_train, x_test, 100, 0.1, 1e-1)\n",
    "print(LL[0], '\\n')"
   ]
  },
  {
   "cell_type": "code",
   "execution_count": 58,
   "id": "b25c582e",
   "metadata": {},
   "outputs": [
    {
     "name": "stdout",
     "output_type": "stream",
     "text": [
      "<bound method BaseEstimator.get_params of GaussianProcessRegressor(kernel=RBF(length_scale=1) + WhiteKernel(noise_level=1),\n",
      "                         random_state=0)>\n",
      "464.47284290058104\n",
      "RBF(length_scale=1e+05) + WhiteKernel(noise_level=1e-05)\n"
     ]
    },
    {
     "name": "stderr",
     "output_type": "stream",
     "text": [
      "/Users/mackenziegray/opt/anaconda3/lib/python3.8/site-packages/sklearn/gaussian_process/kernels.py:411: ConvergenceWarning: The optimal value found for dimension 0 of parameter k1__length_scale is close to the specified upper bound 100000.0. Increasing the bound and calling fit again may find a better value.\n",
      "  warnings.warn(\"The optimal value found for \"\n",
      "/Users/mackenziegray/opt/anaconda3/lib/python3.8/site-packages/sklearn/gaussian_process/kernels.py:402: ConvergenceWarning: The optimal value found for dimension 0 of parameter k2__noise_level is close to the specified lower bound 1e-05. Decreasing the bound and calling fit again may find a better value.\n",
      "  warnings.warn(\"The optimal value found for \"\n"
     ]
    }
   ],
   "source": [
    "from sklearn.gaussian_process import GaussianProcessRegressor\n",
    "from sklearn.gaussian_process.kernels import WhiteKernel, DotProduct, RBF\n",
    "import matplotlib.pyplot as plt\n",
    "import numpy as np\n",
    "\n",
    "# Random seeds\n",
    "np.random.seed(seed=0)  # Set seed for NumPy\n",
    "random_state = 0\n",
    "\n",
    "\n",
    "# Create kernel and define GPR\n",
    "kernel = RBF() + WhiteKernel()\n",
    "gpr = GaussianProcessRegressor(kernel=kernel, random_state=random_state)\n",
    "\n",
    "# Fit GPR model\n",
    "gpr.fit(x_train[0:100], y_train[0:100])\n",
    " \n",
    "# Predict mean\n",
    "y_hat, y_sigma = gpr.predict(x_test[0:10], return_std=True)\n",
    "\n",
    "'''\n",
    "# Initialize plot\n",
    "f, ax = plt.subplots(1, 1, figsize=(4, 3))\n",
    "\n",
    "# Squeeze data\n",
    "x_train = np.squeeze(x_train)\n",
    "y_train = np.squeeze(y_train)\n",
    "x_test = np.squeeze(x_test)\n",
    "y_true = np.squeeze(y_true)\n",
    "\n",
    "# Plot the training data\n",
    "ax.scatter(x_train, y_train)\n",
    "#ax.scatter(x_test, y_test, color='red')\n",
    "\n",
    "\n",
    "# Plot predictive means as blue line\n",
    "#ax.plot(x_test, y_hat, 'b')\n",
    "\n",
    "# Shade between the lower and upper confidence bounds\n",
    "lower = x_test - y_sigma\n",
    "upper = x_test + y_sigma\n",
    "ax.fill_between(x_test, lower, upper, alpha=0.5)\n",
    "ax.set_ylim([-3, 3])\n",
    "plt.title(\"GPR Model Predictions\")\n",
    "plt.show()\n",
    "'''\n",
    "\n",
    "print(gpr.get_params)\n",
    "print(gpr.log_marginal_likelihood_value_)\n",
    "print(gpr.kernel_)"
   ]
  },
  {
   "cell_type": "code",
   "execution_count": 59,
   "id": "a52d98a9",
   "metadata": {},
   "outputs": [
    {
     "name": "stdout",
     "output_type": "stream",
     "text": [
      "4754.386652043086\n",
      "RBF(length_scale=21.6) + WhiteKernel(noise_level=1e-05)\n"
     ]
    },
    {
     "name": "stderr",
     "output_type": "stream",
     "text": [
      "/Users/mackenziegray/opt/anaconda3/lib/python3.8/site-packages/sklearn/gaussian_process/kernels.py:402: ConvergenceWarning: The optimal value found for dimension 0 of parameter k2__noise_level is close to the specified lower bound 1e-05. Decreasing the bound and calling fit again may find a better value.\n",
      "  warnings.warn(\"The optimal value found for \"\n"
     ]
    }
   ],
   "source": [
    "# Random seeds\n",
    "np.random.seed(seed=0)  # Set seed for NumPy\n",
    "random_state = 0\n",
    "\n",
    "\n",
    "# Create kernel and define GPR\n",
    "kernel = RBF() + WhiteKernel()\n",
    "gpr = GaussianProcessRegressor(kernel=kernel, random_state=random_state)\n",
    "\n",
    "# Fit GPR model\n",
    "gpr.fit(x_train[0:1000], y_train[0:1000])\n",
    " \n",
    "# Predict mean\n",
    "y_hat, y_sigma = gpr.predict(x_test[0:100], return_std=True)\n",
    "\n",
    "\n",
    "#print(gpr.get_params)\n",
    "print(gpr.log_marginal_likelihood_value_)\n",
    "print(gpr.kernel_)"
   ]
  },
  {
   "cell_type": "code",
   "execution_count": 60,
   "id": "1879ba4d",
   "metadata": {},
   "outputs": [
    {
     "name": "stdout",
     "output_type": "stream",
     "text": [
      "4754.386652043086\n",
      "RBF(length_scale=21.6) + WhiteKernel(noise_level=1e-05)\n"
     ]
    },
    {
     "name": "stderr",
     "output_type": "stream",
     "text": [
      "/Users/mackenziegray/opt/anaconda3/lib/python3.8/site-packages/sklearn/gaussian_process/kernels.py:402: ConvergenceWarning: The optimal value found for dimension 0 of parameter k2__noise_level is close to the specified lower bound 1e-05. Decreasing the bound and calling fit again may find a better value.\n",
      "  warnings.warn(\"The optimal value found for \"\n"
     ]
    }
   ],
   "source": [
    "# Random seeds\n",
    "np.random.seed(seed=0)  # Set seed for NumPy\n",
    "random_state = 0\n",
    "\n",
    "\n",
    "# Create kernel and define GPR\n",
    "kernel = RBF() + WhiteKernel()\n",
    "gpr = GaussianProcessRegressor(kernel=kernel, random_state=random_state)\n",
    "\n",
    "# Fit GPR model\n",
    "gpr.fit(x_train[0:1000], y_train[0:1000])\n",
    " \n",
    "# Predict mean\n",
    "y_hat, y_sigma = gpr.predict(x_test[0:1000], return_std=True)\n",
    "\n",
    "\n",
    "#print(gpr.get_params)\n",
    "print(gpr.log_marginal_likelihood_value_)\n",
    "print(gpr.kernel_)"
   ]
  },
  {
   "cell_type": "markdown",
   "id": "6bc5c7f5",
   "metadata": {},
   "source": [
    "scipy.optimize.minimize(\n",
    "                obj_func,\n",
    "                initial_theta,\n",
    "                method=\"L-BFGS-B\",\n",
    "                jac=True,\n",
    "                bounds=bounds,\n",
    "            )"
   ]
  },
  {
   "cell_type": "code",
   "execution_count": 115,
   "id": "ef9df131",
   "metadata": {},
   "outputs": [
    {
     "name": "stdout",
     "output_type": "stream",
     "text": [
      "0.00019495051228896152\n",
      "2323.1935026559586\n"
     ]
    }
   ],
   "source": [
    "mu, sigma = GP(x_train[0:100], y_train[0:100], x_test[0:10], 21.6, .00001, 1e-1, 0)\n",
    "\n",
    "y_predict = np.random.multivariate_normal(mu.reshape(10,), sigma)\n",
    "\n",
    "print(least_squares(y_predict, y_true))\n",
    "\n",
    "LL = log_like(x_train, y_train, x_test, 21.6, 0.00001, 1e-1)\n",
    "print(LL[0])"
   ]
  },
  {
   "cell_type": "code",
   "execution_count": 100,
   "id": "f62d67ad",
   "metadata": {},
   "outputs": [
    {
     "data": {
      "text/plain": [
       "Text(0, 0.5, '∆x')"
      ]
     },
     "execution_count": 100,
     "metadata": {},
     "output_type": "execute_result"
    },
    {
     "data": {
      "image/png": "[encoded data removed]",
      "text/plain": [
       "<Figure size 432x288 with 1 Axes>"
      ]
     },
     "metadata": {
      "needs_background": "light"
     },
     "output_type": "display_data"
    }
   ],
   "source": [
    "for i in range(100):\n",
    "    plt.scatter(x_train[i][2], np.abs(y_train[i]), color = 'black')\n",
    "for i in range(10):\n",
    "    #plt.scatter(x_test[i][2], np.abs(mu[i]), color = 'red')\n",
    "    plt.scatter(x_test[i][2], np.abs(y_true[i]), color = 'green')\n",
    "    #plt.scatter(x_test[i][2], np.abs(y_predict[i]), color = 'blue')\n",
    "    plt.scatter(x_test[i][2], np.abs(y_hat[i]), color = 'orange')\n",
    "plt.xlabel('dt')\n",
    "plt.ylabel('∆x')"
   ]
  },
  {
   "cell_type": "code",
   "execution_count": 101,
   "id": "e9a31012",
   "metadata": {},
   "outputs": [
    {
     "data": {
      "text/plain": [
       "Text(0, 0.5, '∆x')"
      ]
     },
     "execution_count": 101,
     "metadata": {},
     "output_type": "execute_result"
    },
    {
     "data": {
      "image/png": "[encoded data removed]",
      "text/plain": [
       "<Figure size 432x288 with 1 Axes>"
      ]
     },
     "metadata": {
      "needs_background": "light"
     },
     "output_type": "display_data"
    }
   ],
   "source": [
    "for i in range(100):\n",
    "    plt.scatter(x_train[i][0], np.abs(y_train[i]), color = 'black')\n",
    "for i in range(10):\n",
    "    #plt.scatter(x_test[i][0], np.abs(mu[i]), color = 'red')\n",
    "    plt.scatter(x_test[i][0], np.abs(y_true[i]), color = 'green')\n",
    "    #plt.scatter(x_test[i][0], np.abs(y_predict[i]), color = 'blue')\n",
    "    plt.scatter(x_test[i][0], np.abs(y_hat[i]), color = 'orange')\n",
    "plt.xlabel('∆v')\n",
    "plt.ylabel('∆x')"
   ]
  },
  {
   "cell_type": "code",
   "execution_count": 102,
   "id": "bced22ec",
   "metadata": {},
   "outputs": [
    {
     "data": {
      "text/plain": [
       "Text(0, 0.5, '∆x')"
      ]
     },
     "execution_count": 102,
     "metadata": {},
     "output_type": "execute_result"
    },
    {
     "data": {
      "image/png": "[encoded data removed]",
      "text/plain": [
       "<Figure size 432x288 with 1 Axes>"
      ]
     },
     "metadata": {
      "needs_background": "light"
     },
     "output_type": "display_data"
    }
   ],
   "source": [
    "for i in range(100):\n",
    "    #plt.scatter(x_train[i][1], (y_train[i]), color = 'black')\n",
    "    pass\n",
    "for i in range(10):\n",
    "    plt.scatter(x_test[i][1], (mu[i]), color = 'red')\n",
    "    plt.scatter(x_test[i][1], (y_true[i]), color = 'green')\n",
    "    plt.scatter(x_test[i][1], (y_predict[i]), color = 'blue')\n",
    "    plt.scatter(x_test[i][1], (y_hat[i]), color = 'orange')\n",
    "plt.xlabel('∆w')\n",
    "plt.ylabel('∆x')"
   ]
  },
  {
   "cell_type": "code",
   "execution_count": 139,
   "id": "9510cd88",
   "metadata": {},
   "outputs": [
    {
     "data": {
      "text/plain": [
       "[<matplotlib.lines.Line2D at 0x7f9a303ae880>]"
      ]
     },
     "execution_count": 139,
     "metadata": {},
     "output_type": "execute_result"
    },
    {
     "data": {
      "image/png": "[encoded data removed]",
      "text/plain": [
       "<Figure size 432x288 with 1 Axes>"
      ]
     },
     "metadata": {
      "needs_background": "light"
     },
     "output_type": "display_data"
    }
   ],
   "source": [
    "plt.scatter(np.array(x_test).T[0], y_true, color = 'blue')\n",
    "plt.scatter(np.array(x_test).T[0], y_hat, color = 'black')\n",
    "plt.scatter(np.array(x_test).T[0][0:10], mu, color = 'red')\n",
    "plt.xlabel('∆v')\n",
    "plt.ylabel('∆x')\n",
    "\n",
    "plt.plot(np.array(x_test).T[0][0:10], L, alpha=0.5, color = 'green')\n",
    "plt.plot(np.array(x_test).T[0][0:10], U, alpha=0.5, color = 'green')"
   ]
  },
  {
   "cell_type": "code",
   "execution_count": 88,
   "id": "e438f169",
   "metadata": {},
   "outputs": [],
   "source": [
    "mu_lin, sigma_lin = GP_1d(x_train.T[0][0:1000], y_train[0:1000], np.linspace(0,0.35,100), 21.6, .00001)\n",
    "\n",
    "y_predict = np.random.multivariate_normal(mu_lin.reshape(100,), sigma_lin)"
   ]
  },
  {
   "cell_type": "code",
   "execution_count": 91,
   "id": "fe07f536",
   "metadata": {},
   "outputs": [],
   "source": [
    "std_lin = np.sqrt(np.diag(sigma_lin))\n",
    "#y_predict"
   ]
  },
  {
   "cell_type": "code",
   "execution_count": 92,
   "id": "e92cdb55",
   "metadata": {},
   "outputs": [
    {
     "data": {
      "text/plain": [
       "[<matplotlib.lines.Line2D at 0x7f9a31434550>]"
      ]
     },
     "execution_count": 92,
     "metadata": {},
     "output_type": "execute_result"
    },
    {
     "data": {
      "image/png": "[encoded data removed]",
      "text/plain": [
       "<Figure size 432x288 with 1 Axes>"
      ]
     },
     "metadata": {
      "needs_background": "light"
     },
     "output_type": "display_data"
    }
   ],
   "source": [
    "#plt.scatter(np.array(x_test).T[0], y_true, color = 'blue')\n",
    "#plt.scatter(np.array(x_test).T[0], y_hat, color = 'black')\n",
    "#plt.scatter(np.array(x_test).T[0][0:10], mu, color = 'red')\n",
    "plt.plot(np.linspace(0,0.35,100), mu_lin)\n",
    "plt.plot(np.linspace(0,0.35,100), mu_lin+std_lin)\n",
    "plt.plot(np.linspace(0,0.35,100), mu_lin-std_lin)"
   ]
  },
  {
   "cell_type": "code",
   "execution_count": 95,
   "id": "9ed5e9fc",
   "metadata": {},
   "outputs": [
    {
     "name": "stdout",
     "output_type": "stream",
     "text": [
      "4729.40413432204\n",
      "RBF(length_scale=363) + WhiteKernel(noise_level=1e-05)\n"
     ]
    },
    {
     "name": "stderr",
     "output_type": "stream",
     "text": [
      "/Users/mackenziegray/opt/anaconda3/lib/python3.8/site-packages/sklearn/gaussian_process/kernels.py:402: ConvergenceWarning: The optimal value found for dimension 0 of parameter k2__noise_level is close to the specified lower bound 1e-05. Decreasing the bound and calling fit again may find a better value.\n",
      "  warnings.warn(\"The optimal value found for \"\n"
     ]
    }
   ],
   "source": [
    "# Random seeds\n",
    "np.random.seed(seed=0)  # Set seed for NumPy\n",
    "random_state = 0\n",
    "\n",
    "\n",
    "# Create kernel and define GPR\n",
    "kernel = RBF() + WhiteKernel()\n",
    "gpr = GaussianProcessRegressor(kernel=kernel, random_state=random_state)\n",
    "\n",
    "# Fit GPR model\n",
    "gpr.fit(x_train.T[0][0:1000].reshape(-1,1), y_train[0:1000])\n",
    " \n",
    "# Predict mean\n",
    "y_hat_lin, y_sigma_lin = gpr.predict(np.linspace(0,.35,100).reshape(-1,1), return_std=True)\n",
    "\n",
    "\n",
    "#print(gpr.get_params)\n",
    "print(gpr.log_marginal_likelihood_value_)\n",
    "print(gpr.kernel_)"
   ]
  },
  {
   "cell_type": "code",
   "execution_count": 136,
   "id": "4ca01c83",
   "metadata": {},
   "outputs": [
    {
     "data": {
      "text/plain": [
       "[<matplotlib.lines.Line2D at 0x7f9a3d848580>]"
      ]
     },
     "execution_count": 136,
     "metadata": {},
     "output_type": "execute_result"
    },
    {
     "data": {
      "image/png": "[encoded data removed]",
      "text/plain": [
       "<Figure size 432x288 with 1 Axes>"
      ]
     },
     "metadata": {
      "needs_background": "light"
     },
     "output_type": "display_data"
    }
   ],
   "source": [
    "for i in range(len(x_test)):\n",
    "    if i != 14:\n",
    "        plt.scatter(np.array(x_test)[i][1], y_true[i], color = 'blue')\n",
    "        plt.scatter(np.array(x_test)[i][1],y_hat[i], color = 'black')\n",
    "\n",
    "#plt.scatter(np.array(x_test).T[1], y_true)\n",
    "#plt.scatter(np.array(x_test).T[1], y_hat)\n",
    "plt.scatter(np.array(x_test).T[1][0:10], mu, color = 'red')\n",
    "plt.xlabel('∆w')\n",
    "plt.ylabel('∆x')\n",
    "\n",
    "plt.plot(np.array(x_test).T[1][0:10], L, alpha=0.5, color = 'green')\n",
    "plt.plot(np.array(x_test).T[1][0:10], U, alpha=0.5, color = 'green')"
   ]
  },
  {
   "cell_type": "code",
   "execution_count": 135,
   "id": "d4ea58ea",
   "metadata": {},
   "outputs": [
    {
     "data": {
      "text/plain": [
       "[<matplotlib.lines.Line2D at 0x7f9a336c7e80>]"
      ]
     },
     "execution_count": 135,
     "metadata": {},
     "output_type": "execute_result"
    },
    {
     "data": {
      "image/png": "[encoded data removed]",
      "text/plain": [
       "<Figure size 432x288 with 1 Axes>"
      ]
     },
     "metadata": {
      "needs_background": "light"
     },
     "output_type": "display_data"
    }
   ],
   "source": [
    "plt.scatter(np.array(x_test).T[2], y_true, color = 'blue')\n",
    "plt.scatter(np.array(x_test).T[2], y_hat, color = 'black')\n",
    "plt.scatter(np.array(x_test).T[2][0:10], mu, color = 'red')\n",
    "\n",
    "#lower = mu - sigma\n",
    "#upper = mu + sigma\n",
    "\n",
    "std1 = np.sqrt(np.diag(sigma))\n",
    "\n",
    "lower = mu-std1\n",
    "upper = mu+std1\n",
    "\n",
    "L = []\n",
    "U = []\n",
    "\n",
    "for i in range(10):\n",
    "    #L.append(lower[i][i])\n",
    "    #U.append(upper[i][i])\n",
    "    L.append(lower[i])\n",
    "    U.append(upper[i])\n",
    "#plt.fill_between(np.array(x_test).T[2][0:10], L, U, alpha=0.5, color = 'red')\n",
    "#plt.fill_between(np.array(x_test).T[2][0:10], 2*sigma[0][0])\n",
    "plt.xlabel('dt')\n",
    "plt.ylabel('∆x')\n",
    "plt.plot(np.array(x_test).T[2][0:10], L, alpha=0.5, color = 'green')\n",
    "plt.plot(np.array(x_test).T[2][0:10], U, alpha=0.5, color = 'green')"
   ]
  },
  {
   "cell_type": "code",
   "execution_count": 25,
   "id": "6607cd30",
   "metadata": {},
   "outputs": [],
   "source": [
    "y_train2 = np.zeros(10000)\n",
    "y_true2 = np.zeros(1000)\n",
    "\n",
    "for i in range(10000):\n",
    "    y_train2[i] = train_out2[i][2]\n",
    "    \n",
    "for i in range(1000):\n",
    "    y_true2[i] = test_out2[i][2]"
   ]
  },
  {
   "cell_type": "code",
   "execution_count": 44,
   "id": "1fec06d8",
   "metadata": {},
   "outputs": [
    {
     "name": "stdout",
     "output_type": "stream",
     "text": [
      "195.85725481445843\n",
      "RBF(length_scale=3.55e+04) + WhiteKernel(noise_level=0.0392)\n"
     ]
    }
   ],
   "source": [
    "from sklearn.gaussian_process.kernels import WhiteKernel, DotProduct, RBF\n",
    "# Random seeds\n",
    "np.random.seed(seed=0)  # Set seed for NumPy\n",
    "random_state = 0\n",
    "\n",
    "\n",
    "# Create kernel and define GPR\n",
    "kernel = RBF() + WhiteKernel()\n",
    "gpr = GaussianProcessRegressor(kernel=kernel, random_state=random_state)\n",
    "\n",
    "# Fit GPR model\n",
    "gpr.fit(x_train[0:1000], y_train2[0:1000])\n",
    " \n",
    "# Predict mean\n",
    "y_hat2, y_sigma2 = gpr.predict(x_test[0:1000], return_std=True)\n",
    "y_hat2, y_cov2 = gpr.predict(x_test[0:1000], return_cov=True)\n",
    "\n",
    "#print(gpr.get_params)\n",
    "print(gpr.log_marginal_likelihood_value_)\n",
    "print(gpr.kernel_)"
   ]
  },
  {
   "cell_type": "code",
   "execution_count": 48,
   "id": "fe58e40b",
   "metadata": {},
   "outputs": [
    {
     "data": {
      "text/plain": [
       "(1000,)"
      ]
     },
     "execution_count": 48,
     "metadata": {},
     "output_type": "execute_result"
    }
   ],
   "source": [
    "y_sigma2.shape"
   ]
  },
  {
   "cell_type": "code",
   "execution_count": 47,
   "id": "1d95559d",
   "metadata": {},
   "outputs": [
    {
     "data": {
      "text/plain": [
       "(1000, 1000)"
      ]
     },
     "execution_count": 47,
     "metadata": {},
     "output_type": "execute_result"
    }
   ],
   "source": [
    "y_cov2.shape"
   ]
  },
  {
   "cell_type": "code",
   "execution_count": 27,
   "id": "b47edb6b",
   "metadata": {},
   "outputs": [
    {
     "name": "stdout",
     "output_type": "stream",
     "text": [
      "0.0272361242517912\n",
      "2320.085736047862\n"
     ]
    }
   ],
   "source": [
    "mu2, sigma2 = GP(x_train[0:100], y_train2[0:100], x_test[0:10], 10000, .01, 1e-1, 0)\n",
    "\n",
    "y_predict2 = np.random.multivariate_normal(mu2.reshape(10,), sigma2)\n",
    "\n",
    "print(least_squares(y_predict2, y_true2))\n",
    "\n",
    "LL2 = log_like(x_train, y_train2, x_test, 10000, 0.01, 1e-1)\n",
    "print(LL2[0])"
   ]
  },
  {
   "cell_type": "code",
   "execution_count": 28,
   "id": "93b83af5",
   "metadata": {},
   "outputs": [
    {
     "data": {
      "text/plain": [
       "<matplotlib.collections.PathCollection at 0x7f9c4b12f310>"
      ]
     },
     "execution_count": 28,
     "metadata": {},
     "output_type": "execute_result"
    },
    {
     "data": {
      "image/png": "[encoded data removed]",
      "text/plain": [
       "<Figure size 432x288 with 1 Axes>"
      ]
     },
     "metadata": {
      "needs_background": "light"
     },
     "output_type": "display_data"
    }
   ],
   "source": [
    "plt.scatter(np.array(x_test).T[2], y_true2, color = 'blue')\n",
    "plt.scatter(np.array(x_test).T[2], y_hat2, color = 'black')\n",
    "plt.scatter(np.array(x_test).T[2][0:10], mu2, color = 'red')"
   ]
  },
  {
   "cell_type": "code",
   "execution_count": 29,
   "id": "af7679fb",
   "metadata": {},
   "outputs": [
    {
     "data": {
      "text/plain": [
       "<matplotlib.collections.PathCollection at 0x7f9c4b0502b0>"
      ]
     },
     "execution_count": 29,
     "metadata": {},
     "output_type": "execute_result"
    },
    {
     "data": {
      "image/png": "[encoded data removed]",
      "text/plain": [
       "<Figure size 432x288 with 1 Axes>"
      ]
     },
     "metadata": {
      "needs_background": "light"
     },
     "output_type": "display_data"
    }
   ],
   "source": [
    "for i in range(len(x_test)):\n",
    "    if i != 14:\n",
    "        plt.scatter(np.array(x_test)[i][1], y_true2[i], color = 'blue')\n",
    "        plt.scatter(np.array(x_test)[i][1],y_hat2[i], color = 'black')\n",
    "plt.scatter(np.array(x_test).T[1][0:10], mu2, color = 'red')"
   ]
  },
  {
   "cell_type": "code",
   "execution_count": 30,
   "id": "aa21c602",
   "metadata": {},
   "outputs": [
    {
     "data": {
      "text/plain": [
       "<matplotlib.collections.PathCollection at 0x7f9c4c465c10>"
      ]
     },
     "execution_count": 30,
     "metadata": {},
     "output_type": "execute_result"
    },
    {
     "data": {
      "image/png": "[encoded data removed]",
      "text/plain": [
       "<Figure size 432x288 with 1 Axes>"
      ]
     },
     "metadata": {
      "needs_background": "light"
     },
     "output_type": "display_data"
    }
   ],
   "source": [
    "plt.scatter(np.array(x_test).T[0], y_true2, color = 'blue')\n",
    "plt.scatter(np.array(x_test).T[0], y_hat2, color = 'black')\n",
    "plt.scatter(np.array(x_test).T[0][0:10], mu2, color = 'red')"
   ]
  },
  {
   "cell_type": "markdown",
   "id": "459f4b57",
   "metadata": {},
   "source": [
    "try changing data set so all points are absolute valued"
   ]
  },
  {
   "cell_type": "code",
   "execution_count": 31,
   "id": "30e5c02f",
   "metadata": {},
   "outputs": [
    {
     "data": {
      "image/png": "[encoded data removed]",
      "text/plain": [
       "<Figure size 432x288 with 1 Axes>"
      ]
     },
     "metadata": {
      "needs_background": "light"
     },
     "output_type": "display_data"
    }
   ],
   "source": [
    "plt.scatter(np.array(x_test).T[0], y_true, color = 'blue')\n",
    "plt.scatter(np.array(x_test).T[0], y_hat, color = 'black')\n",
    "plt.scatter(np.array(x_test).T[0][0:10], mu, color = 'red')\n",
    "X_plot = np.linspace(0, 0.3, 100)[:, None]"
   ]
  },
  {
   "cell_type": "code",
   "execution_count": 52,
   "id": "bebc07e0",
   "metadata": {},
   "outputs": [
    {
     "name": "stdout",
     "output_type": "stream",
     "text": [
      "[0.00314659 0.00314659 0.00314659 0.00314659 0.00314659 0.00314659\n",
      " 0.00314659 0.00314659 0.00314659 0.00314659]\n"
     ]
    }
   ],
   "source": [
    "std1 = np.sqrt(np.diag(sigma))\n",
    "print(std1)"
   ]
  },
  {
   "cell_type": "code",
   "execution_count": 54,
   "id": "322e78a1",
   "metadata": {},
   "outputs": [
    {
     "data": {
      "text/plain": [
       "array([0.00316493, 0.00316737, 0.00316641, 0.0031677 , 0.003169  ,\n",
       "       0.00316472, 0.00317624, 0.0031643 , 0.00316615, 0.0031785 ])"
      ]
     },
     "execution_count": 54,
     "metadata": {},
     "output_type": "execute_result"
    }
   ],
   "source": [
    "y_sigma[0:10]"
   ]
  },
  {
   "cell_type": "code",
   "execution_count": 145,
   "id": "f2557056",
   "metadata": {},
   "outputs": [],
   "source": [
    "def GP2(x_in, y_out, x_test, l, var, noise, prior_mean):\n",
    "    #prior_mean = 0\n",
    "    #noise = 1e-5\n",
    "    \n",
    "    Kxx = RBF_nd(x_in, x_in, l, var)\n",
    "\n",
    "    L = np.linalg.cholesky(Kxx + noise*np.eye(x_in.shape[0])) # add noise\n",
    "\n",
    "    alpha = scipy.linalg.solve_triangular(L.T, scipy.linalg.solve_triangular(L, y_out, lower=True)) # solve(a, b) --> ax = b --> x = a\\b = a^-1b\n",
    "\n",
    "    Kxxt = RBF_nd(x_in, x_test, l, var)\n",
    "\n",
    "    Kxtxt = RBF_nd(x_test, x_test, l, var)\n",
    "\n",
    "    mu_post = np.matmul(Kxxt.T, alpha)\n",
    "\n",
    "    v = scipy.linalg.solve_triangular(L, Kxxt, lower=True)\n",
    "    sigma_post = Kxtxt - np.matmul(v.T, v)\n",
    "    \n",
    "    return mu_post, sigma_post"
   ]
  },
  {
   "cell_type": "code",
   "execution_count": 146,
   "id": "3856ac09",
   "metadata": {},
   "outputs": [
    {
     "name": "stderr",
     "output_type": "stream",
     "text": [
      "<ipython-input-146-6f4168d97659>:15: RuntimeWarning: covariance is not positive-semidefinite.\n",
      "  y_predict_test = np.random.multivariate_normal(mu_test.reshape(len(x_test)), sigma_test)\n",
      "<ipython-input-146-6f4168d97659>:16: RuntimeWarning: covariance is not positive-semidefinite.\n",
      "  y_predict_test2 = np.random.multivariate_normal(mu_test2.reshape(len(x_test)), sigma_test2)\n"
     ]
    }
   ],
   "source": [
    "x_train = train_in2[0:1000]\n",
    "x_test = test_in2[0:100]\n",
    "y_train = np.zeros(1000)\n",
    "y_true = np.zeros(100)\n",
    "\n",
    "for i in range(1000):\n",
    "    y_train[i] = train_out2[i][0]\n",
    "    \n",
    "for i in range(100):\n",
    "    y_true[i] = test_out2[i][0]\n",
    "\n",
    "mu_test, sigma_test = GP(x_train, y_train, x_test, 20, .1, 1e-1, 0)\n",
    "mu_test2, sigma_test2 = GP2(x_train, y_train, x_test, 20, .1, 1e-1, 0)\n",
    "\n",
    "y_predict_test = np.random.multivariate_normal(mu_test.reshape(len(x_test)), sigma_test)\n",
    "y_predict_test2 = np.random.multivariate_normal(mu_test2.reshape(len(x_test)), sigma_test2)\n",
    "\n",
    "#print('1000 training points, 100 testing points')\n",
    "\n",
    "#print(least_squares(y_predict, y_true))\n",
    "\n",
    "#LL = log_like(x_train, y_train, x_test, 100, 0.1, 1e-1)\n",
    "#print(LL[0], '\\n')"
   ]
  },
  {
   "cell_type": "code",
   "execution_count": 147,
   "id": "e95a0348",
   "metadata": {},
   "outputs": [
    {
     "data": {
      "text/plain": [
       "(array([-0.0001497 , -0.00018463, -0.00011849, -0.00019008, -0.00017635,\n",
       "        -0.00016442, -0.00018249, -0.00017015, -0.00016914, -0.00019952]),\n",
       " array([-0.0001497 , -0.00018463, -0.00011849, -0.00019008, -0.00017635,\n",
       "        -0.00016442, -0.00018249, -0.00017015, -0.00016914, -0.00019952]))"
      ]
     },
     "execution_count": 147,
     "metadata": {},
     "output_type": "execute_result"
    }
   ],
   "source": [
    "mu_test[0:10], mu_test2[0:10]"
   ]
  },
  {
   "cell_type": "code",
   "execution_count": 149,
   "id": "16f27dc6",
   "metadata": {},
   "outputs": [],
   "source": [
    "std_test = np.sqrt(np.diag(sigma_test))\n",
    "std_test2 = np.sqrt(np.diag(sigma_test2))"
   ]
  },
  {
   "cell_type": "code",
   "execution_count": 152,
   "id": "e0316cc5",
   "metadata": {},
   "outputs": [
    {
     "data": {
      "text/plain": [
       "(array([0.01000557, 0.01055788, 0.01038147, 0.01069977, 0.01045076,\n",
       "        0.01011824, 0.01044305, 0.01018176, 0.01021958, 0.01101493]),\n",
       " array([0.01000557, 0.01055788, 0.01038147, 0.01069977, 0.01045076,\n",
       "        0.01011824, 0.01044305, 0.01018176, 0.01021958, 0.01101493]))"
      ]
     },
     "execution_count": 152,
     "metadata": {},
     "output_type": "execute_result"
    }
   ],
   "source": [
    "std_test[0:10], std_test2[0:10]"
   ]
  },
  {
   "cell_type": "code",
   "execution_count": 154,
   "id": "cb0cbf1a",
   "metadata": {},
   "outputs": [
    {
     "data": {
      "text/plain": [
       "-0.0002009075816920003"
      ]
     },
     "execution_count": 154,
     "metadata": {},
     "output_type": "execute_result"
    }
   ],
   "source": [
    "min(mu_test)"
   ]
  },
  {
   "cell_type": "code",
   "execution_count": 155,
   "id": "24fc68bc",
   "metadata": {},
   "outputs": [
    {
     "data": {
      "text/plain": [
       "8.703993590708503e-06"
      ]
     },
     "execution_count": 155,
     "metadata": {},
     "output_type": "execute_result"
    }
   ],
   "source": [
    "max(mu_test)"
   ]
  },
  {
   "cell_type": "code",
   "execution_count": null,
   "id": "04bb9b91",
   "metadata": {},
   "outputs": [],
   "source": []
  }
 ],
 "metadata": {
  "kernelspec": {
   "display_name": "Python 3",
   "language": "python",
   "name": "python3"
  },
  "language_info": {
   "codemirror_mode": {
    "name": "ipython",
    "version": 3
   },
   "file_extension": ".py",
   "mimetype": "text/x-python",
   "name": "python",
   "nbconvert_exporter": "python",
   "pygments_lexer": "ipython3",
   "version": "3.8.8"
  }
 },
 "nbformat": 4,
 "nbformat_minor": 5
}
